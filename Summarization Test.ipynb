{
 "cells": [
  {
   "cell_type": "code",
   "execution_count": 34,
   "id": "95374639-2851-420a-8a5b-2302201d56b6",
   "metadata": {},
   "outputs": [
    {
     "data": {
      "text/plain": [
       "True"
      ]
     },
     "execution_count": 34,
     "metadata": {},
     "output_type": "execute_result"
    }
   ],
   "source": [
    "from langchain_google_genai import GoogleGenerativeAIEmbeddings\n",
    "from dotenv import load_dotenv\n",
    "from langchain.document_loaders import TextLoader, PyPDFLoader, Docx2txtLoader\n",
    "from typing import List, Union\n",
    "from gtts import gTTS\n",
    "from langchain.schema import Document\n",
    "load_dotenv()"
   ]
  },
  {
   "cell_type": "code",
   "execution_count": 7,
   "id": "a289cd30-d518-44fa-bf0a-28015cbff540",
   "metadata": {},
   "outputs": [],
   "source": [
    "def load_text_file(file_path: str) -> List[Document]:\n",
    "    \"\"\"\n",
    "    Load a text file using LangChain's TextLoader\n",
    "    \n",
    "    Args:\n",
    "        file_path (str): Path to the text file\n",
    "        \n",
    "    Returns:\n",
    "        List[Document]: List of LangChain Document objects\n",
    "    \"\"\"\n",
    "    loader = TextLoader(file_path,encoding='utf-8')\n",
    "    return loader.load()"
   ]
  },
  {
   "cell_type": "code",
   "execution_count": null,
   "id": "a3540076-9bfc-4fa7-9bdb-db036a1e7a6f",
   "metadata": {},
   "outputs": [],
   "source": [
    "def load_pdf_file(file_path: str) -> List[Document]:\n",
    "    \"\"\"\n",
    "    Load a PDF file using LangChain's PyPDFLoader\n",
    "    \n",
    "    Args:\n",
    "        file_path (str): Path to the PDF file\n",
    "        \n",
    "    Returns:\n",
    "        List[Document]: List of LangChain Document objects\n",
    "    \"\"\"\n",
    "    loader = PyPDFLoader(file_path)\n",
    "    return loader.load()"
   ]
  },
  {
   "cell_type": "code",
   "execution_count": null,
   "id": "1603d533-2802-4738-8d26-dd0541ff6ce1",
   "metadata": {},
   "outputs": [],
   "source": [
    "def load_word_file(file_path: str) -> List[Document]:\n",
    "    \"\"\"\n",
    "    Load a Word document using LangChain's Docx2txtLoader\n",
    "    \n",
    "    Args:\n",
    "        file_path (str): Path to the Word document\n",
    "        \n",
    "    Returns:\n",
    "        List[Document]: List of LangChain Document objects\n",
    "    \"\"\"\n",
    "    loader = Docx2txtLoader(file_path)\n",
    "    return loader.load()"
   ]
  },
  {
   "cell_type": "code",
   "execution_count": 8,
   "id": "8bd4d3aa-ac18-49b8-8ae2-1c2d619e079f",
   "metadata": {},
   "outputs": [],
   "source": [
    "def load_document(file_path: str) -> List[Document]:\n",
    "    \"\"\"\n",
    "    Load a document based on its file extension\n",
    "    \n",
    "    Args:\n",
    "        file_path (str): Path to the document\n",
    "        \n",
    "    Returns:\n",
    "        List[Document]: List of LangChain Document objects\n",
    "    \"\"\"\n",
    "    if file_path.endswith('.txt'):\n",
    "        return load_text_file(file_path)\n",
    "    elif file_path.endswith('.pdf'):\n",
    "        return load_pdf_file(file_path)\n",
    "    elif file_path.endswith('.docx'):\n",
    "        return load_word_file(file_path)\n",
    "    else:\n",
    "        raise ValueError(f\"Unsupported file type: {file_path}\")"
   ]
  },
  {
   "cell_type": "code",
   "execution_count": 26,
   "id": "82e893ea-9908-4e1c-a50b-38b7c282a478",
   "metadata": {},
   "outputs": [],
   "source": [
    "text_docs = load_document(\"state_of_the_union.txt\")\n",
    "text_with_next_lines=(text_docs[0].page_content)\n",
    "text=(','.join(text_with_next_lines.split('\\n\\n')))\n",
    "# Load a PDF file\n",
    "# pdf_docs = load_document(\"sample.pdf\")\n",
    "\n",
    "# Load a Word document\n",
    "# word_docs = load_document(\"sample.docx\")"
   ]
  },
  {
   "cell_type": "code",
   "execution_count": 29,
   "id": "795846ac-d949-4dbf-ac56-3836c187bd3e",
   "metadata": {},
   "outputs": [],
   "source": [
    "from langchain_google_genai import ChatGoogleGenerativeAI\n",
    "llm = ChatGoogleGenerativeAI(model=\"gemini-1.5-flash\")"
   ]
  },
  {
   "cell_type": "code",
   "execution_count": 37,
   "id": "ad41464b-522e-4b67-9089-82c4d1b55ae5",
   "metadata": {
    "scrolled": true
   },
   "outputs": [
    {
     "data": {
      "text/plain": [
       "'President Biden\\'s State of the Union address focused heavily on the war in Ukraine, economic recovery, and combating inflation.  He lauded the Ukrainian people\\'s resistance to Russian aggression, highlighting the international coalition formed to impose sanctions on Russia, including freezing assets of oligarchs and closing American airspace to Russian flights.  He emphasized that while US forces are not engaged in Ukraine, they are deployed to protect NATO allies.\\n\\nEconomically, Biden touted the creation of over 6.5 million jobs last year and the passage of the Bipartisan Infrastructure Law, a massive investment in roads, bridges, airports, and electric vehicle charging stations. He also stressed the need to pass the Bipartisan Innovation Act to boost American manufacturing and compete with China, citing Intel\\'s planned $20 billion (potentially $100 billion) investment in Ohio as an example.  He acknowledged inflation\\'s impact on families and outlined a plan to combat it by lowering prescription drug costs (including capping insulin at $35/month), reducing energy costs through clean energy investments, cutting childcare costs, and making corporations pay their fair share of taxes.  He also announced the release of 60 million barrels of oil from global reserves, with the US contributing 30 million barrels.\\n\\nOn COVID-19, Biden declared a new phase in the fight against the virus, citing decreased severe cases and the CDC\\'s updated mask guidelines. He outlined four steps for moving forward safely:  staying protected with vaccines and treatments (including expanding access to antiviral pills and free tests), preparing for new variants, ending school and business shutdowns, and continuing global vaccination efforts.  He stressed that the US will not simply \"live with COVID-19\" but will continue to combat it.\\n\\nThe address also covered domestic issues.  Biden called for increased funding for law enforcement, rejecting the \"defund the police\" movement while emphasizing community policing and accountability. He urged Congress to pass legislation to reduce gun violence, including universal background checks and an assault weapons ban.  He also advocated for voting rights legislation, including the Freedom to Vote Act and the John Lewis Voting Rights Act.  Immigration reform was highlighted, emphasizing a pathway to citizenship for Dreamers and essential workers.  He reiterated his support for women\\'s reproductive rights and the LGBTQ+ community.\\n\\nFinally, Biden proposed a \"Unity Agenda\" focused on combating the opioid epidemic, improving mental health care (especially for children), supporting veterans (including expanding benefits for those exposed to burn pits), and launching a renewed \"Cancer Moonshot\" initiative to cut cancer deaths by 50% in 25 years.  He concluded by expressing optimism about America\\'s future and its capacity to overcome challenges.\\n'"
      ]
     },
     "execution_count": 37,
     "metadata": {},
     "output_type": "execute_result"
    }
   ],
   "source": [
    "response=llm.invoke(f'here is some data {text}. Can you generate summary from this data with focus on every detail. And generate summary directly.')\n",
    "response.content"
   ]
  },
  {
   "cell_type": "code",
   "execution_count": 35,
   "id": "5fae4992-fd3b-4f32-ac7b-2b31ff62589a",
   "metadata": {},
   "outputs": [],
   "source": [
    "def text_to_speech(text, output_file, language='en'):\n",
    "    \"\"\"Convert text to speech and save as MP3\"\"\"\n",
    "    tts = gTTS(text=text, lang=language)\n",
    "    tts.save(output_file)"
   ]
  },
  {
   "cell_type": "code",
   "execution_count": 38,
   "id": "a2197c15-cd72-4610-a0bc-a31cc33d9439",
   "metadata": {},
   "outputs": [],
   "source": [
    "output_path='summary_audio.wav'\n",
    "text_to_speech(response.content,output_path)"
   ]
  }
 ],
 "metadata": {
  "kernelspec": {
   "display_name": "Python 3 (ipykernel)",
   "language": "python",
   "name": "python3"
  },
  "language_info": {
   "codemirror_mode": {
    "name": "ipython",
    "version": 3
   },
   "file_extension": ".py",
   "mimetype": "text/x-python",
   "name": "python",
   "nbconvert_exporter": "python",
   "pygments_lexer": "ipython3",
   "version": "3.12.8"
  }
 },
 "nbformat": 4,
 "nbformat_minor": 5
}
